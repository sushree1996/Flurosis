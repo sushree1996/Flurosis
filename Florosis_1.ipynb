{
 "cells": [
  {
   "cell_type": "code",
   "execution_count": 77,
   "id": "2d022564",
   "metadata": {},
   "outputs": [],
   "source": [
    "import numpy as np\n",
    "import pandas as pd\n",
    "\n",
    "import matplotlib.pyplot as plt\n",
    "%matplotlib inline\n",
    "import seaborn as sns"
   ]
  },
  {
   "cell_type": "code",
   "execution_count": 78,
   "id": "3467a346",
   "metadata": {},
   "outputs": [
    {
     "data": {
      "text/html": [
       "<div>\n",
       "<style scoped>\n",
       "    .dataframe tbody tr th:only-of-type {\n",
       "        vertical-align: middle;\n",
       "    }\n",
       "\n",
       "    .dataframe tbody tr th {\n",
       "        vertical-align: top;\n",
       "    }\n",
       "\n",
       "    .dataframe thead th {\n",
       "        text-align: right;\n",
       "    }\n",
       "</style>\n",
       "<table border=\"1\" class=\"dataframe\">\n",
       "  <thead>\n",
       "    <tr style=\"text-align: right;\">\n",
       "      <th></th>\n",
       "      <th>101. BLOCK NAME</th>\n",
       "      <th>102.Village Name</th>\n",
       "      <th>103.House Number</th>\n",
       "      <th>104.Residential address</th>\n",
       "      <th>105.Date of interview</th>\n",
       "      <th>106.Occupation</th>\n",
       "      <th>107. Time of interview</th>\n",
       "      <th>108.Interview language</th>\n",
       "      <th>109.Have you read conscent form?</th>\n",
       "      <th>110.Contact Number</th>\n",
       "      <th>...</th>\n",
       "      <th>501. What is the frequency of brushing your teeth?</th>\n",
       "      <th>502. What is the time spent in cleaning your teeth's?</th>\n",
       "      <th>503. What are the tools for cleaning your teeth?</th>\n",
       "      <th>504. Do you use tooth paste?</th>\n",
       "      <th>505. What is the frequency of soft drink intake?</th>\n",
       "      <th>506. What is the frequency of sweet food intake?</th>\n",
       "      <th>507. Do you use any fluoridated toothpaste?</th>\n",
       "      <th>508. What is the frequency for visiting the dentist?</th>\n",
       "      <th>509. What is the reason for not visiting the dentist?</th>\n",
       "      <th>510. What is the way to reduce Dental fluorosis?</th>\n",
       "    </tr>\n",
       "  </thead>\n",
       "  <tbody>\n",
       "    <tr>\n",
       "      <th>0</th>\n",
       "      <td>Angul</td>\n",
       "      <td>Bedasasana</td>\n",
       "      <td>326.0</td>\n",
       "      <td>Bedasasana</td>\n",
       "      <td>23.02.22</td>\n",
       "      <td>Student</td>\n",
       "      <td>12:12pm</td>\n",
       "      <td>Odia</td>\n",
       "      <td>Yes</td>\n",
       "      <td>8.658268e+09</td>\n",
       "      <td>...</td>\n",
       "      <td>Once a day</td>\n",
       "      <td>More than 2 minutes</td>\n",
       "      <td>Tooth brush with tooth paste</td>\n",
       "      <td>Yes</td>\n",
       "      <td>One time per week</td>\n",
       "      <td>Two-three times a day</td>\n",
       "      <td>No</td>\n",
       "      <td>Whenever needed</td>\n",
       "      <td>Due to poor financial conditions</td>\n",
       "      <td>Stop drinking fluoridated water</td>\n",
       "    </tr>\n",
       "    <tr>\n",
       "      <th>1</th>\n",
       "      <td>Angul</td>\n",
       "      <td>Bedasasana</td>\n",
       "      <td>357.0</td>\n",
       "      <td>Bedasasana</td>\n",
       "      <td>23.02.22</td>\n",
       "      <td>Labour</td>\n",
       "      <td>09:10am</td>\n",
       "      <td>Odia</td>\n",
       "      <td>Yes</td>\n",
       "      <td>8.480984e+09</td>\n",
       "      <td>...</td>\n",
       "      <td>Once a day</td>\n",
       "      <td>2 minutes</td>\n",
       "      <td>Tooth brush with tooth paste</td>\n",
       "      <td>Yes</td>\n",
       "      <td>One time per week</td>\n",
       "      <td>One time a day</td>\n",
       "      <td>No-idea</td>\n",
       "      <td>Whenever needed</td>\n",
       "      <td>Due to poor financial conditions</td>\n",
       "      <td>Stop drinking fluoridated water</td>\n",
       "    </tr>\n",
       "    <tr>\n",
       "      <th>2</th>\n",
       "      <td>Angul</td>\n",
       "      <td>Bedasasana</td>\n",
       "      <td>357.0</td>\n",
       "      <td>Bedasasana</td>\n",
       "      <td>23.02.22</td>\n",
       "      <td>Housewife</td>\n",
       "      <td>9:30am</td>\n",
       "      <td>Odia</td>\n",
       "      <td>Yes</td>\n",
       "      <td>8.480984e+09</td>\n",
       "      <td>...</td>\n",
       "      <td>Once a day</td>\n",
       "      <td>2 minutes</td>\n",
       "      <td>Tooth brush with tooth paste</td>\n",
       "      <td>Yes</td>\n",
       "      <td>Never</td>\n",
       "      <td>One time a day</td>\n",
       "      <td>No-idea</td>\n",
       "      <td>Whenever needed</td>\n",
       "      <td>Going to dentist is not useful</td>\n",
       "      <td>Eating fresh foods</td>\n",
       "    </tr>\n",
       "    <tr>\n",
       "      <th>3</th>\n",
       "      <td>Angul</td>\n",
       "      <td>Bedasasana</td>\n",
       "      <td>357.0</td>\n",
       "      <td>Bedasasana</td>\n",
       "      <td>23.02.22</td>\n",
       "      <td>Labour</td>\n",
       "      <td>9.45 am</td>\n",
       "      <td>Odia</td>\n",
       "      <td>Yes</td>\n",
       "      <td>8.480984e+09</td>\n",
       "      <td>...</td>\n",
       "      <td>Once a day</td>\n",
       "      <td>2 minutes</td>\n",
       "      <td>Neem sticks</td>\n",
       "      <td>Yes</td>\n",
       "      <td>Never</td>\n",
       "      <td>One time a day</td>\n",
       "      <td>No</td>\n",
       "      <td>Whenever needed</td>\n",
       "      <td>Going to dentist is not useful</td>\n",
       "      <td>Stop drinking fluoridated water</td>\n",
       "    </tr>\n",
       "    <tr>\n",
       "      <th>4</th>\n",
       "      <td>Angul</td>\n",
       "      <td>Bedasasana</td>\n",
       "      <td>357.0</td>\n",
       "      <td>Bedasasana</td>\n",
       "      <td>23.02.22</td>\n",
       "      <td>Farmer</td>\n",
       "      <td>10:00am</td>\n",
       "      <td>Odia</td>\n",
       "      <td>Yes</td>\n",
       "      <td>8.480984e+09</td>\n",
       "      <td>...</td>\n",
       "      <td>Twice a day</td>\n",
       "      <td>2 minutes</td>\n",
       "      <td>Tooth brush with tooth paste</td>\n",
       "      <td>Yes</td>\n",
       "      <td>Two to three times per week</td>\n",
       "      <td>One time a day</td>\n",
       "      <td>No-idea</td>\n",
       "      <td>Whenever needed</td>\n",
       "      <td>Due to poor financial conditions</td>\n",
       "      <td>Stop drinking fluoridated water</td>\n",
       "    </tr>\n",
       "  </tbody>\n",
       "</table>\n",
       "<p>5 rows × 55 columns</p>\n",
       "</div>"
      ],
      "text/plain": [
       "  101. BLOCK NAME 102.Village Name  103.House Number 104.Residential address  \\\n",
       "0           Angul       Bedasasana             326.0              Bedasasana   \n",
       "1           Angul       Bedasasana             357.0              Bedasasana   \n",
       "2           Angul       Bedasasana             357.0              Bedasasana   \n",
       "3           Angul       Bedasasana             357.0              Bedasasana   \n",
       "4           Angul       Bedasasana             357.0              Bedasasana   \n",
       "\n",
       "  105.Date of interview 106.Occupation 107. Time of interview  \\\n",
       "0              23.02.22        Student                12:12pm   \n",
       "1              23.02.22         Labour                09:10am   \n",
       "2              23.02.22      Housewife                 9:30am   \n",
       "3              23.02.22         Labour                9.45 am   \n",
       "4              23.02.22         Farmer                10:00am   \n",
       "\n",
       "  108.Interview language 109.Have you read conscent form?  110.Contact Number  \\\n",
       "0                   Odia                              Yes        8.658268e+09   \n",
       "1                   Odia                              Yes        8.480984e+09   \n",
       "2                   Odia                              Yes        8.480984e+09   \n",
       "3                   Odia                              Yes        8.480984e+09   \n",
       "4                   Odia                              Yes        8.480984e+09   \n",
       "\n",
       "   ... 501. What is the frequency of brushing your teeth?  \\\n",
       "0  ...                                         Once a day   \n",
       "1  ...                                         Once a day   \n",
       "2  ...                                         Once a day   \n",
       "3  ...                                         Once a day   \n",
       "4  ...                                        Twice a day   \n",
       "\n",
       "   502. What is the time spent in cleaning your teeth's?  \\\n",
       "0                                More than 2 minutes       \n",
       "1                                          2 minutes       \n",
       "2                                          2 minutes       \n",
       "3                                          2 minutes       \n",
       "4                                          2 minutes       \n",
       "\n",
       "  503. What are the tools for cleaning your teeth?  \\\n",
       "0                     Tooth brush with tooth paste   \n",
       "1                     Tooth brush with tooth paste   \n",
       "2                     Tooth brush with tooth paste   \n",
       "3                                      Neem sticks   \n",
       "4                     Tooth brush with tooth paste   \n",
       "\n",
       "  504. Do you use tooth paste?  \\\n",
       "0                          Yes   \n",
       "1                          Yes   \n",
       "2                          Yes   \n",
       "3                          Yes   \n",
       "4                          Yes   \n",
       "\n",
       "  505. What is the frequency of soft drink intake?  \\\n",
       "0                                One time per week   \n",
       "1                                One time per week   \n",
       "2                                            Never   \n",
       "3                                            Never   \n",
       "4                      Two to three times per week   \n",
       "\n",
       "   506. What is the frequency of sweet food intake?  \\\n",
       "0                             Two-three times a day   \n",
       "1                                    One time a day   \n",
       "2                                    One time a day   \n",
       "3                                    One time a day   \n",
       "4                                    One time a day   \n",
       "\n",
       "  507. Do you use any fluoridated toothpaste?  \\\n",
       "0                                          No   \n",
       "1                                     No-idea   \n",
       "2                                     No-idea   \n",
       "3                                          No   \n",
       "4                                     No-idea   \n",
       "\n",
       "  508. What is the frequency for visiting the dentist?  \\\n",
       "0                                    Whenever needed     \n",
       "1                                    Whenever needed     \n",
       "2                                    Whenever needed     \n",
       "3                                    Whenever needed     \n",
       "4                                    Whenever needed     \n",
       "\n",
       "  509. What is the reason for not visiting the dentist?  \\\n",
       "0                   Due to poor financial conditions      \n",
       "1                   Due to poor financial conditions      \n",
       "2                     Going to dentist is not useful      \n",
       "3                     Going to dentist is not useful      \n",
       "4                   Due to poor financial conditions      \n",
       "\n",
       "  510. What is the way to reduce Dental fluorosis?  \n",
       "0                  Stop drinking fluoridated water  \n",
       "1                  Stop drinking fluoridated water  \n",
       "2                               Eating fresh foods  \n",
       "3                  Stop drinking fluoridated water  \n",
       "4                  Stop drinking fluoridated water  \n",
       "\n",
       "[5 rows x 55 columns]"
      ]
     },
     "execution_count": 78,
     "metadata": {},
     "output_type": "execute_result"
    }
   ],
   "source": [
    "df = pd.read_csv('MODIFIED FINAL SHEET1.csv')\n",
    "df.head()"
   ]
  },
  {
   "cell_type": "code",
   "execution_count": 79,
   "id": "4d812e59",
   "metadata": {},
   "outputs": [
    {
     "name": "stdout",
     "output_type": "stream",
     "text": [
      "<class 'pandas.core.frame.DataFrame'>\n",
      "RangeIndex: 999 entries, 0 to 998\n",
      "Data columns (total 55 columns):\n",
      " #   Column                                                                                                       Non-Null Count  Dtype  \n",
      "---  ------                                                                                                       --------------  -----  \n",
      " 0   101. BLOCK NAME                                                                                              389 non-null    object \n",
      " 1   102.Village Name                                                                                             389 non-null    object \n",
      " 2   103.House Number                                                                                             389 non-null    float64\n",
      " 3   104.Residential address                                                                                      389 non-null    object \n",
      " 4   105.Date of interview                                                                                        389 non-null    object \n",
      " 5   106.Occupation                                                                                               389 non-null    object \n",
      " 6   107. Time of interview                                                                                       389 non-null    object \n",
      " 7   108.Interview language                                                                                       389 non-null    object \n",
      " 8   109.Have you read conscent form?                                                                             389 non-null    object \n",
      " 9   110.Contact Number                                                                                           389 non-null    float64\n",
      " 10  201 Name of the respondent                                                                                   389 non-null    object \n",
      " 11  202.Age                                                                                                      389 non-null    float64\n",
      " 12  203.Gender                                                                                                   389 non-null    object \n",
      " 13  204.Religion                                                                                                 389 non-null    object \n",
      " 14  205. Education qualification for the participant                                                             389 non-null    object \n",
      " 15  206.How many family members are there at home?                                                               389 non-null    float64\n",
      " 16  207.Total income (monthly)                                                                                   389 non-null    object \n",
      " 17  208.Place of birth                                                                                           389 non-null    object \n",
      " 18  209. Poverty Status?                                                                                         389 non-null    object \n",
      " 19  301.Are you aware of the term dental fluorosis?                                                              389 non-null    object \n",
      " 20  302.Do you know that treatment is available for fluoride content in teeth?                                   389 non-null    object \n",
      " 21  303.Cause of fluoride appearance?                                                                            389 non-null    object \n",
      " 22  304.Have you ever received information about ill effects about excessive fluoride in water from relatives?   389 non-null    object \n",
      " 23  305.Have you received information about ill effects about excessive fluoride in water from dental surgeon?   389 non-null    object \n",
      " 24  306.Have you received information about ill effects about excessive fluoride in water from government?       389 non-null    object \n",
      " 25  307.Have you received information about ill effects about excessive fluoride in water from school teachers?  389 non-null    object \n",
      " 26  308.Have you heard fluoride can cause cancer?                                                                389 non-null    object \n",
      " 27  309.Do you know that there are some health risks associated with fluoride?                                   389 non-null    object \n",
      " 28  310.Does fluoride damage your enamel layer of your teeth?                                                    389 non-null    object \n",
      " 29  311.Does smoking cause dental fluorosis?                                                                     389 non-null    object \n",
      " 30  312. Will dental fluorosis happen in only one region or whole teeth?                                         389 non-null    object \n",
      " 31  313.Can dental fluorosis be treated by vigorous brushing?                                                    389 non-null    object \n",
      " 32  314.Do you have foul smell inside mouth due to dental fluorosis?                                             389 non-null    object \n",
      " 33  401.Have you ever consulted any dentist regarding the appearance of your teeth?                              389 non-null    object \n",
      " 34  402. Are you willing to get the treatment done for the appearance of your teeth?                             389 non-null    object \n",
      " 35  403. Should Govt. step up defluoridation plan for the prevention of Dental fluorosis?                        389 non-null    object \n",
      " 36  404. Should Govt. provide rebate in RO's for the prevention of Dental fluorosis?                             389 non-null    object \n",
      " 37  405. Should Govt. make policy for the prevention of Dental fluorosis?                                        389 non-null    object \n",
      " 38  406. Should Govt. launch mass public health campaign for the prevention of Dental fluorosis?                 389 non-null    object \n",
      " 39  407. Is the appearance of your teeth appealing?                                                              389 non-null    object \n",
      " 40  408. Are you embarrassed by the appearance of your teeth?                                                    389 non-null    object \n",
      " 41  409. Do you know how much has the appearance of your teeth worried you?                                      389 non-null    object \n",
      " 42  410. How much has the appearance of your teeth hindered you from smiling freely?                             389 non-null    object \n",
      " 43  411. Does the appearance of your teeth prevent you from attending social gatherings?                         389 non-null    object \n",
      " 44  412. When do you start to observe Dental fluorosis in your mouth?                                            389 non-null    object \n",
      " 45  501. What is the frequency of brushing your teeth?                                                           389 non-null    object \n",
      " 46  502. What is the time spent in cleaning your teeth's?                                                        389 non-null    object \n",
      " 47  503. What are the tools for cleaning your teeth?                                                             389 non-null    object \n",
      " 48  504. Do you use tooth paste?                                                                                 389 non-null    object \n",
      " 49  505. What is the frequency of soft drink intake?                                                             389 non-null    object \n",
      " 50  506. What is the frequency of sweet food intake?                                                             389 non-null    object \n",
      " 51  507. Do you use any fluoridated toothpaste?                                                                  389 non-null    object \n",
      " 52  508. What is the frequency for visiting the dentist?                                                         389 non-null    object \n",
      " 53  509. What is the reason for not visiting the dentist?                                                        389 non-null    object \n",
      " 54  510. What is the way to reduce Dental fluorosis?                                                             389 non-null    object \n",
      "dtypes: float64(4), object(51)\n",
      "memory usage: 429.4+ KB\n"
     ]
    }
   ],
   "source": [
    "df.info()"
   ]
  },
  {
   "cell_type": "code",
   "execution_count": 80,
   "id": "3d09b44c",
   "metadata": {},
   "outputs": [
    {
     "data": {
      "text/plain": [
       "101. BLOCK NAME                                                                                                610\n",
       "102.Village Name                                                                                               610\n",
       "103.House Number                                                                                               610\n",
       "104.Residential address                                                                                        610\n",
       "105.Date of interview                                                                                          610\n",
       "106.Occupation                                                                                                 610\n",
       "107. Time of interview                                                                                         610\n",
       "108.Interview language                                                                                         610\n",
       "109.Have you read conscent form?                                                                               610\n",
       "110.Contact Number                                                                                             610\n",
       "201 Name of the respondent                                                                                     610\n",
       "202.Age                                                                                                        610\n",
       "203.Gender                                                                                                     610\n",
       "204.Religion                                                                                                   610\n",
       "205. Education qualification for the participant                                                               610\n",
       "206.How many family members are there at home?                                                                 610\n",
       "207.Total income (monthly)                                                                                     610\n",
       "208.Place of birth                                                                                             610\n",
       "209. Poverty Status?                                                                                           610\n",
       "301.Are you aware of the term dental fluorosis?                                                                610\n",
       "302.Do you know that treatment is available for fluoride content in teeth?                                     610\n",
       "303.Cause of fluoride appearance?                                                                              610\n",
       "304.Have you ever received information about ill effects about excessive fluoride in water from relatives?     610\n",
       "305.Have you received information about ill effects about excessive fluoride in water from dental surgeon?     610\n",
       "306.Have you received information about ill effects about excessive fluoride in water from government?         610\n",
       "307.Have you received information about ill effects about excessive fluoride in water from school teachers?    610\n",
       "308.Have you heard fluoride can cause cancer?                                                                  610\n",
       "309.Do you know that there are some health risks associated with fluoride?                                     610\n",
       "310.Does fluoride damage your enamel layer of your teeth?                                                      610\n",
       "311.Does smoking cause dental fluorosis?                                                                       610\n",
       "312. Will dental fluorosis happen in only one region or whole teeth?                                           610\n",
       "313.Can dental fluorosis be treated by vigorous brushing?                                                      610\n",
       "314.Do you have foul smell inside mouth due to dental fluorosis?                                               610\n",
       "401.Have you ever consulted any dentist regarding the appearance of your teeth?                                610\n",
       "402. Are you willing to get the treatment done for the appearance of your teeth?                               610\n",
       "403. Should Govt. step up defluoridation plan for the prevention of Dental fluorosis?                          610\n",
       "404. Should Govt. provide rebate in RO's for the prevention of Dental fluorosis?                               610\n",
       "405. Should Govt. make policy for the prevention of Dental fluorosis?                                          610\n",
       "406. Should Govt. launch mass public health campaign for the prevention of Dental fluorosis?                   610\n",
       "407. Is the appearance of your teeth appealing?                                                                610\n",
       "408. Are you embarrassed by the appearance of your teeth?                                                      610\n",
       "409. Do you know how much has the appearance of your teeth worried you?                                        610\n",
       "410. How much has the appearance of your teeth hindered you from smiling freely?                               610\n",
       "411. Does the appearance of your teeth prevent you from attending social gatherings?                           610\n",
       "412. When do you start to observe Dental fluorosis in your mouth?                                              610\n",
       "501. What is the frequency of brushing your teeth?                                                             610\n",
       "502. What is the time spent in cleaning your teeth's?                                                          610\n",
       "503. What are the tools for cleaning your teeth?                                                               610\n",
       "504. Do you use tooth paste?                                                                                   610\n",
       "505. What is the frequency of soft drink intake?                                                               610\n",
       "506. What is the frequency of sweet food intake?                                                               610\n",
       "507. Do you use any fluoridated toothpaste?                                                                    610\n",
       "508. What is the frequency for visiting the dentist?                                                           610\n",
       "509. What is the reason for not visiting the dentist?                                                          610\n",
       "510. What is the way to reduce Dental fluorosis?                                                               610\n",
       "dtype: int64"
      ]
     },
     "execution_count": 80,
     "metadata": {},
     "output_type": "execute_result"
    }
   ],
   "source": [
    "# summarising number of missing values in each column\n",
    "df.isnull().sum()"
   ]
  },
  {
   "cell_type": "code",
   "execution_count": 81,
   "id": "787b658a",
   "metadata": {},
   "outputs": [
    {
     "data": {
      "text/plain": [
       "101. BLOCK NAME                                                                                                61.0\n",
       "102.Village Name                                                                                               61.0\n",
       "103.House Number                                                                                               61.0\n",
       "104.Residential address                                                                                        61.0\n",
       "105.Date of interview                                                                                          61.0\n",
       "106.Occupation                                                                                                 61.0\n",
       "107. Time of interview                                                                                         61.0\n",
       "108.Interview language                                                                                         61.0\n",
       "109.Have you read conscent form?                                                                               61.0\n",
       "110.Contact Number                                                                                             61.0\n",
       "201 Name of the respondent                                                                                     61.0\n",
       "202.Age                                                                                                        61.0\n",
       "203.Gender                                                                                                     61.0\n",
       "204.Religion                                                                                                   61.0\n",
       "205. Education qualification for the participant                                                               61.0\n",
       "206.How many family members are there at home?                                                                 61.0\n",
       "207.Total income (monthly)                                                                                     61.0\n",
       "208.Place of birth                                                                                             61.0\n",
       "209. Poverty Status?                                                                                           61.0\n",
       "301.Are you aware of the term dental fluorosis?                                                                61.0\n",
       "302.Do you know that treatment is available for fluoride content in teeth?                                     61.0\n",
       "303.Cause of fluoride appearance?                                                                              61.0\n",
       "304.Have you ever received information about ill effects about excessive fluoride in water from relatives?     61.0\n",
       "305.Have you received information about ill effects about excessive fluoride in water from dental surgeon?     61.0\n",
       "306.Have you received information about ill effects about excessive fluoride in water from government?         61.0\n",
       "307.Have you received information about ill effects about excessive fluoride in water from school teachers?    61.0\n",
       "308.Have you heard fluoride can cause cancer?                                                                  61.0\n",
       "309.Do you know that there are some health risks associated with fluoride?                                     61.0\n",
       "310.Does fluoride damage your enamel layer of your teeth?                                                      61.0\n",
       "311.Does smoking cause dental fluorosis?                                                                       61.0\n",
       "312. Will dental fluorosis happen in only one region or whole teeth?                                           61.0\n",
       "313.Can dental fluorosis be treated by vigorous brushing?                                                      61.0\n",
       "314.Do you have foul smell inside mouth due to dental fluorosis?                                               61.0\n",
       "401.Have you ever consulted any dentist regarding the appearance of your teeth?                                61.0\n",
       "402. Are you willing to get the treatment done for the appearance of your teeth?                               61.0\n",
       "403. Should Govt. step up defluoridation plan for the prevention of Dental fluorosis?                          61.0\n",
       "404. Should Govt. provide rebate in RO's for the prevention of Dental fluorosis?                               61.0\n",
       "405. Should Govt. make policy for the prevention of Dental fluorosis?                                          61.0\n",
       "406. Should Govt. launch mass public health campaign for the prevention of Dental fluorosis?                   61.0\n",
       "407. Is the appearance of your teeth appealing?                                                                61.0\n",
       "408. Are you embarrassed by the appearance of your teeth?                                                      61.0\n",
       "409. Do you know how much has the appearance of your teeth worried you?                                        61.0\n",
       "410. How much has the appearance of your teeth hindered you from smiling freely?                               61.0\n",
       "411. Does the appearance of your teeth prevent you from attending social gatherings?                           61.0\n",
       "412. When do you start to observe Dental fluorosis in your mouth?                                              61.0\n",
       "501. What is the frequency of brushing your teeth?                                                             61.0\n",
       "502. What is the time spent in cleaning your teeth's?                                                          61.0\n",
       "503. What are the tools for cleaning your teeth?                                                               61.0\n",
       "504. Do you use tooth paste?                                                                                   61.0\n",
       "505. What is the frequency of soft drink intake?                                                               61.0\n",
       "506. What is the frequency of sweet food intake?                                                               61.0\n",
       "507. Do you use any fluoridated toothpaste?                                                                    61.0\n",
       "508. What is the frequency for visiting the dentist?                                                           61.0\n",
       "509. What is the reason for not visiting the dentist?                                                          61.0\n",
       "510. What is the way to reduce Dental fluorosis?                                                               61.0\n",
       "dtype: float64"
      ]
     },
     "execution_count": 81,
     "metadata": {},
     "output_type": "execute_result"
    }
   ],
   "source": [
    "# percentage of missing values in each column\n",
    "round(df.isnull().sum()/len(df.index), 2)*100"
   ]
  },
  {
   "cell_type": "code",
   "execution_count": 118,
   "id": "8539c3c6",
   "metadata": {},
   "outputs": [
    {
     "name": "stdout",
     "output_type": "stream",
     "text": [
      "Index([], dtype='object')\n"
     ]
    }
   ],
   "source": [
    "# removing the columns having more than 90% missing values\n",
    "missing_columns = df.columns[100*(df.isnull().sum()/len(df.index)) > 90]\n",
    "print(missing_columns)"
   ]
  },
  {
   "cell_type": "code",
   "execution_count": 119,
   "id": "9da29537",
   "metadata": {},
   "outputs": [
    {
     "name": "stdout",
     "output_type": "stream",
     "text": [
      "(999, 54)\n"
     ]
    }
   ],
   "source": [
    "df = df.drop(missing_columns, axis=1)\n",
    "print(df.shape)"
   ]
  },
  {
   "cell_type": "code",
   "execution_count": 120,
   "id": "e150d1b9",
   "metadata": {},
   "outputs": [
    {
     "data": {
      "text/plain": [
       "<bound method DataFrame.info of     101. BLOCK NAME 102.Village Name  103.House Number  \\\n",
       "0             Angul       Bedasasana             326.0   \n",
       "1             Angul       Bedasasana             357.0   \n",
       "2             Angul       Bedasasana             357.0   \n",
       "3             Angul       Bedasasana             357.0   \n",
       "4             Angul       Bedasasana             357.0   \n",
       "..              ...              ...               ...   \n",
       "994             NaN              NaN               NaN   \n",
       "995             NaN              NaN               NaN   \n",
       "996             NaN              NaN               NaN   \n",
       "997             NaN              NaN               NaN   \n",
       "998             NaN              NaN               NaN   \n",
       "\n",
       "    104.Residential address 105.Date of interview 106.Occupation  \\\n",
       "0                Bedasasana              23.02.22        Student   \n",
       "1                Bedasasana              23.02.22         Labour   \n",
       "2                Bedasasana              23.02.22      Housewife   \n",
       "3                Bedasasana              23.02.22         Labour   \n",
       "4                Bedasasana              23.02.22         Farmer   \n",
       "..                      ...                   ...            ...   \n",
       "994                     NaN                   NaN            NaN   \n",
       "995                     NaN                   NaN            NaN   \n",
       "996                     NaN                   NaN            NaN   \n",
       "997                     NaN                   NaN            NaN   \n",
       "998                     NaN                   NaN            NaN   \n",
       "\n",
       "    107. Time of interview 108.Interview language  \\\n",
       "0                  12:12pm                   Odia   \n",
       "1                  09:10am                   Odia   \n",
       "2                   9:30am                   Odia   \n",
       "3                  9.45 am                   Odia   \n",
       "4                  10:00am                   Odia   \n",
       "..                     ...                    ...   \n",
       "994                    NaN                    NaN   \n",
       "995                    NaN                    NaN   \n",
       "996                    NaN                    NaN   \n",
       "997                    NaN                    NaN   \n",
       "998                    NaN                    NaN   \n",
       "\n",
       "    109.Have you read conscent form?  110.Contact Number  ...  \\\n",
       "0                                Yes        8.658268e+09  ...   \n",
       "1                                Yes        8.480984e+09  ...   \n",
       "2                                Yes        8.480984e+09  ...   \n",
       "3                                Yes        8.480984e+09  ...   \n",
       "4                                Yes        8.480984e+09  ...   \n",
       "..                               ...                 ...  ...   \n",
       "994                              NaN                 NaN  ...   \n",
       "995                              NaN                 NaN  ...   \n",
       "996                              NaN                 NaN  ...   \n",
       "997                              NaN                 NaN  ...   \n",
       "998                              NaN                 NaN  ...   \n",
       "\n",
       "    501. What is the frequency of brushing your teeth?  \\\n",
       "0                                           Once a day   \n",
       "1                                           Once a day   \n",
       "2                                           Once a day   \n",
       "3                                           Once a day   \n",
       "4                                          Twice a day   \n",
       "..                                                 ...   \n",
       "994                                                NaN   \n",
       "995                                                NaN   \n",
       "996                                                NaN   \n",
       "997                                                NaN   \n",
       "998                                                NaN   \n",
       "\n",
       "     502. What is the time spent in cleaning your teeth's?  \\\n",
       "0                                  More than 2 minutes       \n",
       "1                                            2 minutes       \n",
       "2                                            2 minutes       \n",
       "3                                            2 minutes       \n",
       "4                                            2 minutes       \n",
       "..                                                 ...       \n",
       "994                                                NaN       \n",
       "995                                                NaN       \n",
       "996                                                NaN       \n",
       "997                                                NaN       \n",
       "998                                                NaN       \n",
       "\n",
       "    503. What are the tools for cleaning your teeth?  \\\n",
       "0                       Tooth brush with tooth paste   \n",
       "1                       Tooth brush with tooth paste   \n",
       "2                       Tooth brush with tooth paste   \n",
       "3                                        Neem sticks   \n",
       "4                       Tooth brush with tooth paste   \n",
       "..                                               ...   \n",
       "994                                              NaN   \n",
       "995                                              NaN   \n",
       "996                                              NaN   \n",
       "997                                              NaN   \n",
       "998                                              NaN   \n",
       "\n",
       "    504. Do you use tooth paste?  \\\n",
       "0                            Yes   \n",
       "1                            Yes   \n",
       "2                            Yes   \n",
       "3                            Yes   \n",
       "4                            Yes   \n",
       "..                           ...   \n",
       "994                          NaN   \n",
       "995                          NaN   \n",
       "996                          NaN   \n",
       "997                          NaN   \n",
       "998                          NaN   \n",
       "\n",
       "    505. What is the frequency of soft drink intake?  \\\n",
       "0                                  One time per week   \n",
       "1                                  One time per week   \n",
       "2                                              Never   \n",
       "3                                              Never   \n",
       "4                        Two to three times per week   \n",
       "..                                               ...   \n",
       "994                                              NaN   \n",
       "995                                              NaN   \n",
       "996                                              NaN   \n",
       "997                                              NaN   \n",
       "998                                              NaN   \n",
       "\n",
       "     506. What is the frequency of sweet food intake?  \\\n",
       "0                               Two-three times a day   \n",
       "1                                      One time a day   \n",
       "2                                      One time a day   \n",
       "3                                      One time a day   \n",
       "4                                      One time a day   \n",
       "..                                                ...   \n",
       "994                                               NaN   \n",
       "995                                               NaN   \n",
       "996                                               NaN   \n",
       "997                                               NaN   \n",
       "998                                               NaN   \n",
       "\n",
       "    507. Do you use any fluoridated toothpaste?  \\\n",
       "0                                            No   \n",
       "1                                       No-idea   \n",
       "2                                       No-idea   \n",
       "3                                            No   \n",
       "4                                       No-idea   \n",
       "..                                          ...   \n",
       "994                                         NaN   \n",
       "995                                         NaN   \n",
       "996                                         NaN   \n",
       "997                                         NaN   \n",
       "998                                         NaN   \n",
       "\n",
       "    508. What is the frequency for visiting the dentist?  \\\n",
       "0                                      Whenever needed     \n",
       "1                                      Whenever needed     \n",
       "2                                      Whenever needed     \n",
       "3                                      Whenever needed     \n",
       "4                                      Whenever needed     \n",
       "..                                                 ...     \n",
       "994                                                NaN     \n",
       "995                                                NaN     \n",
       "996                                                NaN     \n",
       "997                                                NaN     \n",
       "998                                                NaN     \n",
       "\n",
       "    509. What is the reason for not visiting the dentist?  \\\n",
       "0                     Due to poor financial conditions      \n",
       "1                     Due to poor financial conditions      \n",
       "2                       Going to dentist is not useful      \n",
       "3                       Going to dentist is not useful      \n",
       "4                     Due to poor financial conditions      \n",
       "..                                                 ...      \n",
       "994                                                NaN      \n",
       "995                                                NaN      \n",
       "996                                                NaN      \n",
       "997                                                NaN      \n",
       "998                                                NaN      \n",
       "\n",
       "    510. What is the way to reduce Dental fluorosis?  \n",
       "0                    Stop drinking fluoridated water  \n",
       "1                    Stop drinking fluoridated water  \n",
       "2                                 Eating fresh foods  \n",
       "3                    Stop drinking fluoridated water  \n",
       "4                    Stop drinking fluoridated water  \n",
       "..                                               ...  \n",
       "994                                              NaN  \n",
       "995                                              NaN  \n",
       "996                                              NaN  \n",
       "997                                              NaN  \n",
       "998                                              NaN  \n",
       "\n",
       "[999 rows x 54 columns]>"
      ]
     },
     "execution_count": 120,
     "metadata": {},
     "output_type": "execute_result"
    }
   ],
   "source": [
    "df.info"
   ]
  },
  {
   "cell_type": "code",
   "execution_count": 85,
   "id": "9a64c575",
   "metadata": {},
   "outputs": [
    {
     "data": {
      "text/plain": [
       "101. BLOCK NAME                                                                                                61.061061\n",
       "102.Village Name                                                                                               61.061061\n",
       "103.House Number                                                                                               61.061061\n",
       "104.Residential address                                                                                        61.061061\n",
       "105.Date of interview                                                                                          61.061061\n",
       "106.Occupation                                                                                                 61.061061\n",
       "107. Time of interview                                                                                         61.061061\n",
       "108.Interview language                                                                                         61.061061\n",
       "109.Have you read conscent form?                                                                               61.061061\n",
       "110.Contact Number                                                                                             61.061061\n",
       "201 Name of the respondent                                                                                     61.061061\n",
       "202.Age                                                                                                        61.061061\n",
       "203.Gender                                                                                                     61.061061\n",
       "204.Religion                                                                                                   61.061061\n",
       "205. Education qualification for the participant                                                               61.061061\n",
       "206.How many family members are there at home?                                                                 61.061061\n",
       "207.Total income (monthly)                                                                                     61.061061\n",
       "208.Place of birth                                                                                             61.061061\n",
       "209. Poverty Status?                                                                                           61.061061\n",
       "301.Are you aware of the term dental fluorosis?                                                                61.061061\n",
       "302.Do you know that treatment is available for fluoride content in teeth?                                     61.061061\n",
       "303.Cause of fluoride appearance?                                                                              61.061061\n",
       "304.Have you ever received information about ill effects about excessive fluoride in water from relatives?     61.061061\n",
       "305.Have you received information about ill effects about excessive fluoride in water from dental surgeon?     61.061061\n",
       "306.Have you received information about ill effects about excessive fluoride in water from government?         61.061061\n",
       "307.Have you received information about ill effects about excessive fluoride in water from school teachers?    61.061061\n",
       "308.Have you heard fluoride can cause cancer?                                                                  61.061061\n",
       "309.Do you know that there are some health risks associated with fluoride?                                     61.061061\n",
       "310.Does fluoride damage your enamel layer of your teeth?                                                      61.061061\n",
       "311.Does smoking cause dental fluorosis?                                                                       61.061061\n",
       "312. Will dental fluorosis happen in only one region or whole teeth?                                           61.061061\n",
       "313.Can dental fluorosis be treated by vigorous brushing?                                                      61.061061\n",
       "314.Do you have foul smell inside mouth due to dental fluorosis?                                               61.061061\n",
       "401.Have you ever consulted any dentist regarding the appearance of your teeth?                                61.061061\n",
       "402. Are you willing to get the treatment done for the appearance of your teeth?                               61.061061\n",
       "403. Should Govt. step up defluoridation plan for the prevention of Dental fluorosis?                          61.061061\n",
       "404. Should Govt. provide rebate in RO's for the prevention of Dental fluorosis?                               61.061061\n",
       "405. Should Govt. make policy for the prevention of Dental fluorosis?                                          61.061061\n",
       "406. Should Govt. launch mass public health campaign for the prevention of Dental fluorosis?                   61.061061\n",
       "407. Is the appearance of your teeth appealing?                                                                61.061061\n",
       "408. Are you embarrassed by the appearance of your teeth?                                                      61.061061\n",
       "409. Do you know how much has the appearance of your teeth worried you?                                        61.061061\n",
       "410. How much has the appearance of your teeth hindered you from smiling freely?                               61.061061\n",
       "411. Does the appearance of your teeth prevent you from attending social gatherings?                           61.061061\n",
       "412. When do you start to observe Dental fluorosis in your mouth?                                              61.061061\n",
       "501. What is the frequency of brushing your teeth?                                                             61.061061\n",
       "502. What is the time spent in cleaning your teeth's?                                                          61.061061\n",
       "503. What are the tools for cleaning your teeth?                                                               61.061061\n",
       "504. Do you use tooth paste?                                                                                   61.061061\n",
       "505. What is the frequency of soft drink intake?                                                               61.061061\n",
       "506. What is the frequency of sweet food intake?                                                               61.061061\n",
       "507. Do you use any fluoridated toothpaste?                                                                    61.061061\n",
       "508. What is the frequency for visiting the dentist?                                                           61.061061\n",
       "509. What is the reason for not visiting the dentist?                                                          61.061061\n",
       "510. What is the way to reduce Dental fluorosis?                                                               61.061061\n",
       "dtype: float64"
      ]
     },
     "execution_count": 85,
     "metadata": {},
     "output_type": "execute_result"
    }
   ],
   "source": [
    "# summarise number of missing values again\n",
    "100*(df.isnull().sum()/len(df.index))"
   ]
  },
  {
   "cell_type": "code",
   "execution_count": 86,
   "id": "62c064c4",
   "metadata": {},
   "outputs": [
    {
     "data": {
      "text/plain": [
       "610"
      ]
     },
     "execution_count": 86,
     "metadata": {},
     "output_type": "execute_result"
    }
   ],
   "source": [
    "len(df[df.isnull().sum(axis=1) > 5].index)"
   ]
  },
  {
   "cell_type": "code",
   "execution_count": 87,
   "id": "98645970",
   "metadata": {},
   "outputs": [
    {
     "data": {
      "text/plain": [
       "38.6"
      ]
     },
     "execution_count": 87,
     "metadata": {},
     "output_type": "execute_result"
    }
   ],
   "source": [
    "# Average Age\n",
    "round(np.mean(df['202.Age']), 2)"
   ]
  },
  {
   "cell_type": "code",
   "execution_count": 88,
   "id": "4eafe161",
   "metadata": {},
   "outputs": [],
   "source": [
    "# Average Age\n",
    "#round(np.mean(df['207.Total income (monthly)']), 2)\n",
    "#19,460"
   ]
  },
  {
   "cell_type": "code",
   "execution_count": 89,
   "id": "730a1f8c",
   "metadata": {},
   "outputs": [
    {
     "data": {
      "image/png": "[encoded data removed]",
      "text/plain": [
       "<Figure size 432x288 with 1 Axes>"
      ]
     },
     "metadata": {
      "needs_background": "light"
     },
     "output_type": "display_data"
    }
   ],
   "source": [
    "# plotting default rates across grade of the loan\n",
    "sns.barplot(x='202.Age', y='314.Do you have foul smell inside mouth due to dental fluorosis?', data=df)\n",
    "plt.show()"
   ]
  },
  {
   "cell_type": "code",
   "execution_count": 90,
   "id": "339c4380",
   "metadata": {},
   "outputs": [
    {
     "data": {
      "image/png": "[encoded data removed]",
      "text/plain": [
       "<Figure size 432x288 with 1 Axes>"
      ]
     },
     "metadata": {
      "needs_background": "light"
     },
     "output_type": "display_data"
    }
   ],
   "source": [
    "# plotting default rates across grade of the loan\n",
    "sns.barplot(x='202.Age', y='302.Do you know that treatment is available for fluoride content in teeth?', data=df)\n",
    "plt.show()"
   ]
  },
  {
   "cell_type": "code",
   "execution_count": 91,
   "id": "411cfa3b",
   "metadata": {},
   "outputs": [
    {
     "data": {
      "image/png": "[encoded data removed]",
      "text/plain": [
       "<Figure size 432x288 with 1 Axes>"
      ]
     },
     "metadata": {
      "needs_background": "light"
     },
     "output_type": "display_data"
    }
   ],
   "source": [
    "# plotting default rates across grade of the loan\n",
    "sns.barplot(x='202.Age', y='509. What is the reason for not visiting the dentist?', data=df)\n",
    "plt.show()"
   ]
  },
  {
   "cell_type": "code",
   "execution_count": 92,
   "id": "34885c70",
   "metadata": {},
   "outputs": [
    {
     "data": {
      "image/png": "[encoded data removed]",
      "text/plain": [
       "<Figure size 432x288 with 1 Axes>"
      ]
     },
     "metadata": {
      "needs_background": "light"
     },
     "output_type": "display_data"
    }
   ],
   "source": [
    "# plotting default rates across grade of the loan\n",
    "sns.barplot(x='106.Occupation', y='202.Age', data=df)\n",
    "plt.show()\n",
    "    "
   ]
  },
  {
   "cell_type": "code",
   "execution_count": 93,
   "id": "a894e46a",
   "metadata": {},
   "outputs": [],
   "source": [
    "# lets define a function to plot loan_status across categorical variables\n",
    "def plot_cat(cat_var):\n",
    "    sns.barplot(x=cat_var, y='202.Age', data=df)\n",
    "    plt.show()\n",
    "    "
   ]
  },
  {
   "cell_type": "code",
   "execution_count": 94,
   "id": "a16e0cc8",
   "metadata": {},
   "outputs": [
    {
     "data": {
      "image/png": "[encoded data removed]",
      "text/plain": [
       "<Figure size 432x288 with 1 Axes>"
      ]
     },
     "metadata": {
      "needs_background": "light"
     },
     "output_type": "display_data"
    }
   ],
   "source": [
    "plot_cat('302.Do you know that treatment is available for fluoride content in teeth?')"
   ]
  },
  {
   "cell_type": "code",
   "execution_count": 95,
   "id": "5fd05755",
   "metadata": {},
   "outputs": [
    {
     "data": {
      "image/png": "[encoded data removed]",
      "text/plain": [
       "<Figure size 432x288 with 1 Axes>"
      ]
     },
     "metadata": {
      "needs_background": "light"
     },
     "output_type": "display_data"
    }
   ],
   "source": [
    "plot_cat('301.Are you aware of the term dental fluorosis?')"
   ]
  },
  {
   "cell_type": "code",
   "execution_count": 96,
   "id": "b1404d97",
   "metadata": {},
   "outputs": [
    {
     "data": {
      "text/plain": [
       "<AxesSubplot:>"
      ]
     },
     "execution_count": 96,
     "metadata": {},
     "output_type": "execute_result"
    },
    {
     "data": {
      "image/png": "[encoded data removed]",
      "text/plain": [
       "<Figure size 792x792 with 2 Axes>"
      ]
     },
     "metadata": {
      "needs_background": "light"
     },
     "output_type": "display_data"
    }
   ],
   "source": [
    "import matplotlib.pyplot as plt\n",
    "\n",
    "fig, ax = plt.subplots(figsize=(11,11)) # Sample figsize in inches, change the number accordingly\n",
    "sns.heatmap(df.corr(method = 'spearman'), annot= True, cmap = 'Blues',ax = ax)\n",
    "\n",
    "# MEDV and LSTAT is having -0.85, we might need to remove one variable"
   ]
  },
  {
   "cell_type": "code",
   "execution_count": null,
   "id": "08528c32",
   "metadata": {},
   "outputs": [],
   "source": []
  },
  {
   "cell_type": "code",
   "execution_count": null,
   "id": "b13cc3b3",
   "metadata": {},
   "outputs": [],
   "source": []
  },
  {
   "cell_type": "code",
   "execution_count": null,
   "id": "a95fcdd0",
   "metadata": {},
   "outputs": [],
   "source": []
  },
  {
   "cell_type": "code",
   "execution_count": null,
   "id": "f551140b",
   "metadata": {},
   "outputs": [],
   "source": []
  }
 ],
 "metadata": {
  "kernelspec": {
   "display_name": "Python 3",
   "language": "python",
   "name": "python3"
  },
  "language_info": {
   "codemirror_mode": {
    "name": "ipython",
    "version": 3
   },
   "file_extension": ".py",
   "mimetype": "text/x-python",
   "name": "python",
   "nbconvert_exporter": "python",
   "pygments_lexer": "ipython3",
   "version": "3.8.8"
  }
 },
 "nbformat": 4,
 "nbformat_minor": 5
}
